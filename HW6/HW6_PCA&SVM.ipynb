{
 "cells": [
  {
   "cell_type": "markdown",
   "metadata": {},
   "source": [
    "# Homework 6\n",
    "You need to classify digits with SVM models in this homework. Use PCA to reduce data dimensionality (80% information remain). Compare performance of linear, radial, and polynomial kernals. Tune kernal parameters using Randomsearch method."
   ]
  },
  {
   "cell_type": "code",
   "execution_count": 46,
   "metadata": {},
   "outputs": [
    {
     "data": {
      "image/png": "[encoded data removed]",
      "text/plain": [
       "<Figure size 720x288 with 40 Axes>"
      ]
     },
     "metadata": {},
     "output_type": "display_data"
    }
   ],
   "source": [
    "%matplotlib inline\n",
    "#imports\n",
    "import numpy as np\n",
    "import matplotlib.pyplot as plt\n",
    "from scipy import stats\n",
    "from sklearn.decomposition import PCA\n",
    "from sklearn.model_selection import RandomizedSearchCV\n",
    "from sklearn.svm import SVC\n",
    "from sklearn.model_selection import train_test_split\n",
    "from sklearn.pipeline import make_pipeline\n",
    "\n",
    "# use seaborn plotting defaults\n",
    "import seaborn as sns; sns.set()\n",
    "from sklearn import datasets, svm, metrics\n",
    "\n",
    "# The digits dataset\n",
    "digits = datasets.load_digits()\n",
    "\n",
    "def plot_digits(data):\n",
    "    fig, axes = plt.subplots(4, 10, figsize=(10, 4),\n",
    "                             subplot_kw={'xticks':[], 'yticks':[]},\n",
    "                             gridspec_kw=dict(hspace=0.1, wspace=0.1))\n",
    "    for i, ax in enumerate(axes.flat):\n",
    "        ax.imshow(data[i].reshape(8, 8),\n",
    "                  cmap='binary', interpolation='nearest',\n",
    "                  clim=(0, 16))\n",
    "plot_digits(digits.data)"
   ]
  },
  {
   "cell_type": "code",
   "execution_count": 47,
   "metadata": {},
   "outputs": [
    {
     "data": {
      "text/plain": [
       "array([ 1,  3,  6, 10, 15, 21], dtype=int32)"
      ]
     },
     "execution_count": 47,
     "metadata": {},
     "output_type": "execute_result"
    },
    {
     "data": {
      "image/png": "[encoded data removed]",
      "text/plain": [
       "<Figure size 432x288 with 1 Axes>"
      ]
     },
     "metadata": {},
     "output_type": "display_data"
    }
   ],
   "source": [
    "# Look at the graph of the cumulative explained variance ratio against the number of principal components.\n",
    "# This code came from the PCA example code from class.\n",
    "pca = PCA().fit(digits.data)\n",
    "evr = np.cumsum(pca.explained_variance_ratio_)\n",
    "plt.plot(evr)\n",
    "plt.axvline(x = 12, color = 'k', ls='--')\n",
    "plt.xlabel('number of components')\n",
    "plt.ylabel('cumulative explained variance');\n",
    "\n",
    "# Return the cumulative sum of the elements along a given axis.\n",
    "a = np.array([[1,2,3], [4,5,6]])\n",
    "np.cumsum(a)"
   ]
  },
  {
   "cell_type": "markdown",
   "metadata": {},
   "source": [
    "From the above chart, we can see that we'll need around 12 principal components in order to retain 80% of the information."
   ]
  },
  {
   "cell_type": "code",
   "execution_count": 48,
   "metadata": {},
   "outputs": [
    {
     "name": "stdout",
     "output_type": "stream",
     "text": [
      "Linear best parameters: {'svc__C': 10}\n",
      "Linear test set accuracy: 0.9577777777777777\n",
      "Poly best parameters: {'svc__degree': 3, 'svc__C': 100}\n",
      "Poly test set accuracy: 0.9755555555555555\n",
      "RBF best parameters: {'svc__gamma': 0.001, 'svc__C': 100}\n",
      "RBF test set accuracy: 0.9822222222222222\n"
     ]
    }
   ],
   "source": [
    "# Keep 80 percent of the information (which from the graph above we see will be about 12 principal components).\n",
    "pca = PCA(n_components=0.8)\n",
    "\n",
    "# So that we can get accuracy, split the data into test and training set ()\n",
    "Xtrain, Xtest, ytrain, ytest = train_test_split(digits.data, digits.target,random_state=42)\n",
    "\n",
    "# Linear\n",
    "svc_linear = SVC(kernel='linear',class_weight='balanced')\n",
    "linear_model = make_pipeline(pca, svc_linear)\n",
    "C = [1, 10, 100, 1000]\n",
    "\n",
    "linear = RandomizedSearchCV(estimator = linear_model, param_distributions = {'svc__C':C}, n_iter = 4, n_jobs = 4, cv=5)\n",
    "linear.fit(Xtrain,ytrain)\n",
    "\n",
    "accuracy_linear = linear.score(Xtest,ytest)\n",
    "\n",
    "# Polynomial\n",
    "svc_poly = SVC(kernel='poly',class_weight='balanced')\n",
    "poly_model = make_pipeline(pca, svc_poly)\n",
    "degree = [1,2,3,4]\n",
    "\n",
    "poly = RandomizedSearchCV(estimator = poly_model, param_distributions = {'svc__C':C,'svc__degree':degree}, n_jobs = 5, cv=5)\n",
    "poly.fit(Xtrain,ytrain)\n",
    "\n",
    "accuracy_poly = poly.score(Xtest,ytest)\n",
    "\n",
    "# RBF\n",
    "svc_rbf = SVC(kernel='rbf',class_weight='balanced')\n",
    "rbf_model = make_pipeline(pca, svc_rbf)\n",
    "gamma = [0.1, 0.01, 0.001, 0.0001]\n",
    "\n",
    "rbf = RandomizedSearchCV(estimator = rbf_model, param_distributions = {'svc__C':C,'svc__gamma':gamma}, n_jobs = 5, cv=5)\n",
    "rbf.fit(Xtrain,ytrain)\n",
    "\n",
    "accuracy_rbf = rbf.score(Xtest,ytest)\n",
    "\n",
    "print('Linear best parameters: ' + repr(linear.best_params_))\n",
    "print('Linear test set accuracy: ' + repr(accuracy_linear))\n",
    "print('Poly best parameters: ' + repr(poly.best_params_))\n",
    "print('Poly test set accuracy: ' + repr(accuracy_poly))\n",
    "print('RBF best parameters: ' + repr(rbf.best_params_))\n",
    "print('RBF test set accuracy: ' + repr(accuracy_rbf))"
   ]
  },
  {
   "cell_type": "markdown",
   "metadata": {},
   "source": [
    "We see that the best kernel is RBF with the above values for C and gamma, based on 5 fold cross validation. The accuracy results on the test data is 98.2%!"
   ]
  }
 ],
 "metadata": {
  "kernelspec": {
   "display_name": "Python 3 (ipykernel)",
   "language": "python",
   "name": "python3"
  },
  "language_info": {
   "codemirror_mode": {
    "name": "ipython",
    "version": 3
   },
   "file_extension": ".py",
   "mimetype": "text/x-python",
   "name": "python",
   "nbconvert_exporter": "python",
   "pygments_lexer": "ipython3",
   "version": "3.9.7"
  }
 },
 "nbformat": 4,
 "nbformat_minor": 2
}
