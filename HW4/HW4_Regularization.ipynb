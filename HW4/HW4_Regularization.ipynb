{
 "cells": [
  {
   "cell_type": "markdown",
   "metadata": {},
   "source": [
    "# Homework 4 - Regularization"
   ]
  },
  {
   "cell_type": "code",
   "execution_count": 86,
   "metadata": {},
   "outputs": [],
   "source": [
    "# Imports\n",
    "%matplotlib inline\n",
    "import matplotlib.pyplot as plt\n",
    "import seaborn as sns; sns.set()\n",
    "import numpy as np\n",
    "import pandas as pd\n",
    "\n",
    "from sklearn.base import BaseEstimator, TransformerMixin\n",
    "from sklearn.linear_model import LinearRegression, Ridge, Lasso\n",
    "from sklearn.model_selection import RandomizedSearchCV, cross_val_score\n",
    "from sklearn.metrics import accuracy_score\n",
    "from scipy.stats import uniform\n",
    "\n",
    "# First we start by loading all the data. This code comes from the sample given in class.\n",
    "\n",
    "# these two files are large, and it may take a while to read...\n",
    "counts = pd.read_csv('data/FremontBridge.csv', index_col='Date', parse_dates=True)\n",
    "weather = pd.read_csv('data/BicycleWeather.csv', index_col='DATE', parse_dates=True)\n",
    "daily = counts.resample('d').sum()\n",
    "daily['Total'] = daily.sum(axis=1)\n",
    "daily = daily[['Total']] # remove other columns\n",
    "\n",
    "# add an indicator about Mon - Sun\n",
    "days = ['Mon', 'Tue', 'Wed', 'Thu', 'Fri', 'Sat', 'Sun']\n",
    "for i in range(7):\n",
    "    daily[days[i]] = (daily.index.dayofweek == i).astype(float)\n",
    "\n",
    "# add an indicator about holiday\n",
    "from pandas.tseries.holiday import USFederalHolidayCalendar\n",
    "cal = USFederalHolidayCalendar()\n",
    "holidays = cal.holidays('2012', '2016')\n",
    "daily = daily.join(pd.Series(1, index=holidays, name='holiday'))\n",
    "\n",
    "# replace missing data with 0\n",
    "daily['holiday'].fillna(0, inplace=True)\n",
    "\n",
    "# This function seems crazy. The main goal is to calculate hours of daylight\n",
    "# https://www.esrl.noaa.gov/gmd/grad/solcalc/sunrise.html here is an example...\n",
    "def hours_of_daylight(date, axis=23.44, latitude=47.61):\n",
    "    \"\"\"Compute the hours of daylight for the given date\"\"\"\n",
    "    days = (date - pd.datetime(2000, 12, 21)).days\n",
    "    m = (1. - np.tan(np.radians(latitude))\n",
    "         * np.tan(np.radians(axis) * np.cos(days * 2 * np.pi / 365.25)))\n",
    "    return 24. * np.degrees(np.arccos(1 - np.clip(m, 0, 2))) / 180.\n",
    "\n",
    "daily['daylight_hrs'] = list(map(hours_of_daylight, daily.index))\n",
    "\n",
    "# temperatures are in 1/10 deg C; convert to C\n",
    "weather['TMIN'] /= 10\n",
    "weather['TMAX'] /= 10\n",
    "weather['Temp (C)'] = 0.5 * (weather['TMIN'] + weather['TMAX'])\n",
    "\n",
    "# precip is in 1/10 mm; convert to inches\n",
    "weather['PRCP'] /= 254\n",
    "weather['dry day'] = (weather['PRCP'] == 0).astype(int)\n",
    "\n",
    "daily = daily.join(weather[['PRCP', 'Temp (C)', 'dry day']])\n",
    "# how='left' means calling frame’s index \n",
    "# daily = daily.join(weather[['PRCP', 'Temp (C)', 'dry day']], how='left', lsuffix='_left', rsuffix='_right')\n",
    "\n",
    "# number of years passed\n",
    "daily['annual'] = (daily.index - daily.index[0]).days / 365.\n",
    "\n",
    "# Drop any rows with null values\n",
    "daily.dropna(axis=0, how='any', inplace=True)\n",
    "\n",
    "column_names = ['Mon', 'Tue', 'Wed', 'Thu', 'Fri', 'Sat', 'Sun', 'holiday',\n",
    "                'daylight_hrs', 'PRCP', 'dry day', 'Temp (C)', 'annual']\n",
    "\n",
    "# Format data into X and Y\n",
    "X = daily[column_names]\n",
    "y = daily['Total']"
   ]
  },
  {
   "cell_type": "code",
   "execution_count": 97,
   "metadata": {},
   "outputs": [
    {
     "name": "stdout",
     "output_type": "stream",
     "text": [
      "[0. 0. 0. 0. 0. 0. 0. 0. 0. 0. 0. 0. 0. 0. 0. 0. 0. 0. 0. 0. 0. 0. 0. 0.\n",
      " 0. 1. 1. 1. 1. 1. 1. 1. 1. 1. 1. 1. 1. 1. 1. 1. 1. 1. 1. 1. 1. 1. 1. 1.\n",
      " 1. 1.]\n",
      "Ridge alpha: 0.8916760383807072\n",
      "Ridge score: 0.7699023884946389\n",
      "Lasso alpha: 0.8815107114290489\n",
      "Lasso score: 0.7697365960515639\n",
      "Linear score: 0.7691752923789884\n",
      "Best performance: Ridge\n"
     ]
    },
    {
     "data": {
      "image/png": "[encoded data removed]",
      "text/plain": [
       "<Figure size 432x288 with 1 Axes>"
      ]
     },
     "metadata": {},
     "output_type": "display_data"
    }
   ],
   "source": [
    "# Now we can compare the models\n",
    "results = {}\n",
    "\n",
    "# Ridge\n",
    "param_grid = {'alpha': uniform(loc=0,scale=1)}\n",
    "\n",
    "rsearch_ridge = RandomizedSearchCV(estimator=Ridge(), param_distributions=param_grid, cv=10)\n",
    "rsearch_ridge.fit(X,y)\n",
    "best_alpha_ridge = rsearch_ridge.best_params_['alpha']\n",
    "mean_score_ridge = rsearch_ridge.best_score_\n",
    "print('Ridge alpha: ' + repr(best_alpha_ridge))\n",
    "print('Ridge score: ' + repr(mean_score_ridge))\n",
    "results['Ridge'] = mean_score_ridge\n",
    "\n",
    "# Lasso\n",
    "rsearch_lasso = RandomizedSearchCV(estimator=Lasso(tol=0.01), param_distributions=param_grid, cv=10)\n",
    "rsearch_lasso.fit(X,y)\n",
    "best_alpha_lasso = rsearch_lasso.best_params_['alpha']\n",
    "mean_score_lasso = rsearch_lasso.best_score_\n",
    "print('Lasso alpha: ' + repr(best_alpha_lasso))\n",
    "print('Lasso score: ' + repr(mean_score_lasso))\n",
    "results['Lasso'] = mean_score_lasso\n",
    "\n",
    "# Linear Regression\n",
    "model = LinearRegression(fit_intercept=False)\n",
    "model.fit(X, y)\n",
    "\n",
    "linear_cv = cross_val_score(model,X,y,cv=10)\n",
    "mean_score_linear = linear_cv.mean()\n",
    "print('Linear score: ' + repr(mean_score_linear))\n",
    "results['Linear'] = mean_score_linear\n",
    "\n",
    "max_score = max(results, key=results.get)\n",
    "print('Best performance: ' + max_score)"
   ]
  },
  {
   "cell_type": "code",
   "execution_count": null,
   "metadata": {},
   "outputs": [],
   "source": []
  }
 ],
 "metadata": {
  "anaconda-cloud": {},
  "kernelspec": {
   "display_name": "Python 3 (ipykernel)",
   "language": "python",
   "name": "python3"
  },
  "language_info": {
   "codemirror_mode": {
    "name": "ipython",
    "version": 3
   },
   "file_extension": ".py",
   "mimetype": "text/x-python",
   "name": "python",
   "nbconvert_exporter": "python",
   "pygments_lexer": "ipython3",
   "version": "3.9.7"
  }
 },
 "nbformat": 4,
 "nbformat_minor": 1
}
